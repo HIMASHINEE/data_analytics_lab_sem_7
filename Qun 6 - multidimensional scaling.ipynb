{
 "cells": [
  {
   "cell_type": "code",
   "execution_count": 14,
   "metadata": {},
   "outputs": [
    {
     "data": {
      "text/plain": [
       "<matplotlib.collections.PathCollection at 0x11ec1d320>"
      ]
     },
     "execution_count": 14,
     "metadata": {},
     "output_type": "execute_result"
    },
    {
     "data": {
      "image/png": "[encoded data removed]",
      "text/plain": [
       "<matplotlib.figure.Figure at 0x11e9bd438>"
      ]
     },
     "metadata": {},
     "output_type": "display_data"
    }
   ],
   "source": [
    "#to implement multi dimensional scaling\n",
    "\n",
    "import numpy as np\n",
    "import matplotlib.pyplot as plt\n",
    "import statistics\n",
    "pts=[[1,1],[2,1],[2,2],[3,2]]\n",
    "x=[1,2,2,3]\n",
    "y=[1,1,2,2]\n",
    "#display scatter plot\n",
    "plt.scatter(x, y)\n",
    "#to find the mean centered data\n",
    "# can also use statistics to find mean\n",
    "xmean=statistics.mean(x)\n",
    "ymean=statistics.mean(y)\n",
    "#mean subtracted data x-xbar and y-ybar\n",
    "meanx=[i-xmean for i in x]\n",
    "meany=[i-ymean for i in y]\n",
    "#plot of mean subtracted data\n",
    "plt.scatter(meanx,meany)\n",
    "\n"
   ]
  },
  {
   "cell_type": "code",
   "execution_count": 19,
   "metadata": {},
   "outputs": [
    {
     "name": "stdout",
     "output_type": "stream",
     "text": [
      "[[ 1.25  0.25 -0.25 -1.25]\n",
      " [ 0.25  0.25 -0.25 -0.25]\n",
      " [-0.25 -0.25  0.25  0.25]\n",
      " [-1.25 -0.25  0.25  1.25]]\n"
     ]
    }
   ],
   "source": [
    "#print(pts)\n",
    "#the product of the matrix and its transpose\n",
    "matrix=np.column_stack((meanx,meany))\n",
    "matnmatT=np.dot(matrix,matrix.T)\n",
    "print(matnmatT)"
   ]
  },
  {
   "cell_type": "code",
   "execution_count": 20,
   "metadata": {},
   "outputs": [
    {
     "name": "stdout",
     "output_type": "stream",
     "text": [
      "[ 2.61803399e+00  3.81966011e-01 -1.01645597e-16  1.09593976e-17]\n",
      "[[-0.68819096  0.16245985  0.6805563   0.02267483]\n",
      " [-0.16245985 -0.68819096  0.19194563  0.70674313]\n",
      " [ 0.16245985  0.68819096  0.19194563  0.70674313]\n",
      " [ 0.68819096 -0.16245985  0.6805563   0.02267483]]\n"
     ]
    }
   ],
   "source": [
    "#to find eigen values and eigen vectors\n",
    "eigenvalues,eigenvectors=np.linalg.eig(matnmatT)\n",
    "print(eigenvalues)\n",
    "print(eigenvectors)"
   ]
  },
  {
   "cell_type": "code",
   "execution_count": 22,
   "metadata": {},
   "outputs": [],
   "source": [
    "#the first eigen vector and the largest eigen value\n",
    "eigvector=eigenvectors[:,[0]]\n",
    "eigvalue=eigenvalues[0]"
   ]
  },
  {
   "cell_type": "code",
   "execution_count": 23,
   "metadata": {},
   "outputs": [
    {
     "name": "stdout",
     "output_type": "stream",
     "text": [
      "[[-1.11351636]\n",
      " [-0.26286556]\n",
      " [ 0.26286556]\n",
      " [ 1.11351636]]\n"
     ]
    }
   ],
   "source": [
    "import math\n",
    "#to find mds projection\n",
    "mds=math.sqrt(eigvalue)*eigvector\n",
    "print(mds)"
   ]
  },
  {
   "cell_type": "code",
   "execution_count": 26,
   "metadata": {},
   "outputs": [
    {
     "name": "stdout",
     "output_type": "stream",
     "text": [
      "[[0.         1.         1.41421356 2.23606798]\n",
      " [1.         0.         1.         1.41421356]\n",
      " [1.41421356 1.         0.         1.        ]\n",
      " [2.23606798 1.41421356 1.         0.        ]]\n"
     ]
    }
   ],
   "source": [
    "from sklearn.metrics.pairwise import euclidean_distances\n",
    "#distance between the mean subtracted x data\n",
    "distx=euclidean_distances(matrix,matrix)\n",
    "print(distx)"
   ]
  },
  {
   "cell_type": "code",
   "execution_count": 27,
   "metadata": {},
   "outputs": [
    {
     "name": "stdout",
     "output_type": "stream",
     "text": [
      "[[0.         0.85065081 1.37638192 2.22703273]\n",
      " [0.85065081 0.         0.52573111 1.37638192]\n",
      " [1.37638192 0.52573111 0.         0.85065081]\n",
      " [2.22703273 1.37638192 0.85065081 0.        ]]\n"
     ]
    }
   ],
   "source": [
    "#distance between the computed points that is mds projection\n",
    "disty=euclidean_distances(mds,mds)\n",
    "print(disty)"
   ]
  }
 ],
 "metadata": {
  "kernelspec": {
   "display_name": "Python 3",
   "language": "python",
   "name": "python3"
  },
  "language_info": {
   "codemirror_mode": {
    "name": "ipython",
    "version": 3
   },
   "file_extension": ".py",
   "mimetype": "text/x-python",
   "name": "python",
   "nbconvert_exporter": "python",
   "pygments_lexer": "ipython3",
   "version": "3.6.4"
  }
 },
 "nbformat": 4,
 "nbformat_minor": 2
}
